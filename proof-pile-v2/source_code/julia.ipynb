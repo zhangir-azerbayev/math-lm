{
 "cells": [
  {
   "cell_type": "code",
   "execution_count": 1,
   "metadata": {},
   "outputs": [],
   "source": [
    "import ndjson\n",
    "import os\n",
    "import random\n",
    "import re\n",
    "import math\n",
    "import matplotlib.pyplot as plt"
   ]
  },
  {
   "cell_type": "code",
   "execution_count": 2,
   "metadata": {},
   "outputs": [
    {
     "name": "stdout",
     "output_type": "stream",
     "text": [
      "Loading: stack-code/julia/0000000.jsonl.\n",
      "Loading: stack-code/julia/0000001.jsonl.\n",
      "Loading: stack-code/julia/0000002.jsonl.\n",
      "Loading: stack-code/julia/0000003.jsonl.\n",
      "Number of files:  332174\n"
     ]
    }
   ],
   "source": [
    "def load_julia_dataset():\n",
    "    ds = []\n",
    "    dir = os.path.join(\"stack-code\", \"julia\")\n",
    "    files = sorted(os.listdir(dir))\n",
    "    for f in files:\n",
    "        f = os.path.join(dir, f)\n",
    "        print(f\"Loading: {f}.\")\n",
    "        with open(f) as f:\n",
    "            ds += ndjson.load(f)\n",
    "    return ds\n",
    "\n",
    "DATASET = load_julia_dataset()\n",
    "print(\"Number of files: \", len(DATASET))"
   ]
  },
  {
   "cell_type": "code",
   "execution_count": 10,
   "metadata": {},
   "outputs": [],
   "source": [
    "def example_str(ex):\n",
    "    \"\"\"\n",
    "    A rendering of a data sample as a single Julia string.\n",
    "    \"\"\"\n",
    "    return \"\\n\\n\".join([\n",
    "        \"# \" + ex[\"max_stars_repo_name\"],\n",
    "        \"# \" + ex[\"max_stars_repo_path\"],\n",
    "        ex[\"content\"]])\n",
    "\n",
    "def filtered(filter):\n",
    "    return [d for d in DATASET if filter(d)]\n",
    "\n",
    "def sorted_by_size(ds):\n",
    "    return sorted(ds, key=lambda x: x[\"size\"], reverse=True)\n",
    "\n",
    "def save_examples(examples, dir, max_num=None):\n",
    "    dir = os.path.join(\"julia-examples\", dir)\n",
    "    os.makedirs(dir, exist_ok=True)\n",
    "    for i, d in enumerate(examples):\n",
    "        print(example_str(d), file=open(os.path.join(dir, f\"{i}.jl\"), \"w\"))\n",
    "        if max_num is not None and i >= max_num:\n",
    "            break\n",
    "\n",
    "def total_size(ds):\n",
    "    return sum(d[\"size\"] for d in ds) / 1e9"
   ]
  },
  {
   "cell_type": "code",
   "execution_count": 4,
   "metadata": {},
   "outputs": [
    {
     "data": {
      "image/png": "[encoded data removed]",
      "text/plain": [
       "<Figure size 640x480 with 1 Axes>"
      ]
     },
     "metadata": {},
     "output_type": "display_data"
    }
   ],
   "source": [
    "plt.hist([math.log10(d[\"size\"]) for d in DATASET], log=True)\n",
    "plt.show()"
   ]
  },
  {
   "cell_type": "code",
   "execution_count": 5,
   "metadata": {},
   "outputs": [],
   "source": [
    "def julia_test_file(ex, ratio=0.1):\n",
    "    # Whether a file has some minimum ratio of @test statements\n",
    "    txt = ex[\"content\"]\n",
    "    kwd = \"@test\"\n",
    "    nlines = txt.count(\"\\n\") + 1\n",
    "    return kwd in txt and (txt.count(kwd) / nlines >= ratio)\n",
    "\n",
    "def julia_numerical_density(ex):\n",
    "    # The ratio of digit characters over non-digit characters in the file\n",
    "    txt = ex[\"content\"]\n",
    "    ntoks = sum(txt.count(c) for c in \"0123456789\")\n",
    "    return ntoks / len(txt)\n",
    "\n",
    "def generated_file(ex):\n",
    "    #This heuristic happens to be superfluous\n",
    "    return \"generated\" in ex[\"max_stars_repo_name\"] or ex[\"max_stars_repo_name\"][0] == \".\"\n",
    "\n",
    "def julia_filter(ex):\n",
    "    if ex[\"content\"][0] in [\"%\", \"{\", \"[\"]:\n",
    "        # Eliminates non-Julia files such as JSON lines (.jl) files \n",
    "        return False\n",
    "    elif ex[\"size\"] >= 1e5:\n",
    "        # Overly large files are often auto-generated boilerplate and/or mostly\n",
    "        # contain large arrays of numbers.Thus, we reject such large files unless\n",
    "        # unless they are test files with low numerical density.\n",
    "        return julia_test_file(ex) and julia_numerical_density(ex) <= 0.5\n",
    "    else:\n",
    "        return True"
   ]
  },
  {
   "cell_type": "code",
   "execution_count": 6,
   "metadata": {},
   "outputs": [],
   "source": [
    "# A list of keywords that make a Julia file interesting\n",
    "julia_whitelist = [\n",
    "    # Popular packages for scientific computing\n",
    "    \"LinearAlgebra\",\n",
    "    \"DifferentialEquations\",\n",
    "    \"Symbolics\",\n",
    "    \"Distributions\",\n",
    "    \"DataFrames\",\n",
    "    \"DynamicalSystems\",\n",
    "    \"Turing\",\n",
    "    \"Gen\",\n",
    "    \"JuMP\",\n",
    "    # Standard mathematical functions\n",
    "    \"sqrt\",\n",
    "    \"abs\",\n",
    "    \"zeros\",\n",
    "    \"ones\",\n",
    "    \"sin\",\n",
    "    \"cos\",\n",
    "    \"tan\",\n",
    "    \"log\",\n",
    "    \"exp\",\n",
    "    \"integrate\",\n",
    "    \"likelihood\",\n",
    "    \"Matrix\",\n",
    "    \"π\",\n",
    "    \"pi\",\n",
    "    \"rand\",\n",
    "    \"grad\"\n",
    "]\n",
    "\n",
    "julia_whitelist_rexp = re.compile(\"|\".join(\"(\\\\W\" + kwd + \"\\\\W)\" for kwd in julia_whitelist))\n",
    "\n",
    "def julia_filter_strict(ex):\n",
    "    return julia_filter(ex) and julia_whitelist_rexp.search(ex[\"content\"])"
   ]
  },
  {
   "cell_type": "code",
   "execution_count": 8,
   "metadata": {},
   "outputs": [
    {
     "name": "stdout",
     "output_type": "stream",
     "text": [
      "Total: 1.75GB\n",
      "Filtered: 1.50GB\n",
      "Filtered strict: 1.03GB\n"
     ]
    }
   ],
   "source": [
    "# Computing the strict filtered dataset is a bit slow\n",
    "# This should take about 5-10 minutes.\n",
    "\n",
    "DATASET_FILTERED = filtered(julia_filter)\n",
    "DATASET_FILTERED_STRICT = filtered(julia_filter_strict)\n",
    "\n",
    "print(f\"Total: {total_size(DATASET):.2f}GB\")\n",
    "print(f\"Filtered: {total_size(DATASET_FILTERED):.2f}GB\")\n",
    "print(f\"Filtered strict: {total_size(DATASET_FILTERED_STRICT):.2f}GB\")"
   ]
  },
  {
   "cell_type": "code",
   "execution_count": 11,
   "metadata": {},
   "outputs": [],
   "source": [
    "def save_filtered_examples():\n",
    "    dataset_shuffled = DATASET_FILTERED.copy()\n",
    "    random.shuffle(dataset_shuffled)\n",
    "    dataset_sorted = sorted_by_size(DATASET_FILTERED)\n",
    "    save_examples(dataset_shuffled, \"shuffled\", max_num=100)\n",
    "    save_examples(dataset_sorted, \"largest\", max_num=100)\n",
    "    save_examples(DATASET_FILTERED_STRICT, \"strict\", max_num=100)\n",
    "\n",
    "save_filtered_examples()"
   ]
  }
 ],
 "metadata": {
  "kernelspec": {
   "display_name": "math-lm",
   "language": "python",
   "name": "python3"
  },
  "language_info": {
   "codemirror_mode": {
    "name": "ipython",
    "version": 3
   },
   "file_extension": ".py",
   "mimetype": "text/x-python",
   "name": "python",
   "nbconvert_exporter": "python",
   "pygments_lexer": "ipython3",
   "version": "3.10.8"
  },
  "orig_nbformat": 4
 },
 "nbformat": 4,
 "nbformat_minor": 2
}
